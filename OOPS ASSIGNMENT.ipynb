{
 "cells": [
  {
   "cell_type": "code",
   "execution_count": null,
   "id": "34951cd9-f89d-41eb-8be9-2c4a094e3cc6",
   "metadata": {},
   "outputs": [],
   "source": [
    " # Python OOPs Questions                       (NOTE>> \"---\" this sign for the answer of theory question)"
   ]
  },
  {
   "cell_type": "code",
   "execution_count": null,
   "id": "2e9e891e-2808-4d73-a2f2-244012edc4e5",
   "metadata": {},
   "outputs": [],
   "source": [
    "#Q.NO 1. What is Object-Oriented Programming (OOP)?\n",
    "\n",
    "--- # Object-Oriented Programming (OOP) is a programming paradigm centered around the concept of \"objects\", which can contain data (attributes or properties) and code (methods or functions). It is a way of structuring software so that related behaviors and data are grouped together."
   ]
  },
  {
   "cell_type": "code",
   "execution_count": null,
   "id": "9dcf4dea-c85d-4af7-9462-29382f7ac675",
   "metadata": {},
   "outputs": [],
   "source": [
    "#Q.NO 2. What is a class in OOP?\n",
    "\n",
    "--- # In Object-Oriented Programming (OOP), a class is a blueprint or template for creating objects."
   ]
  },
  {
   "cell_type": "code",
   "execution_count": null,
   "id": "422cbcc1-05db-4930-8ce4-1ade4ddab5f8",
   "metadata": {},
   "outputs": [],
   "source": [
    "#Q.NO 3. What is an object in OOP?\n",
    "\n",
    "---#In Object-Oriented Programming (OOP), an object is a specific instance of a class. It represents a real-world entity that has:\n",
    "--#State (data/attributes)\n",
    "--#Behavior (methods/functions)"
   ]
  },
  {
   "cell_type": "code",
   "execution_count": null,
   "id": "8cd37efb-5770-4006-921f-8bf4ff496220",
   "metadata": {},
   "outputs": [],
   "source": [
    "#Q.NO 4. What is the difference between abstraction and encapsulation?\n",
    "\n",
    "---# Abstraction\n",
    "   # Abstraction is the process of hiding unnecessary details and showing only the essential features of an object. \n",
    "   \n",
    "   #Encapsulation\n",
    "   # Encapsulation is the practice of bundling data and methods that operate on that data into a single unit (class), and restricting direct access to some of the object's components."
   ]
  },
  {
   "cell_type": "code",
   "execution_count": null,
   "id": "fe2889ec-270c-47a7-a3c1-95403b4c67e0",
   "metadata": {},
   "outputs": [],
   "source": [
    "#Q.NO 5. What are dunder methods in Python?\n",
    "\n",
    "---# Dunder methods in Python (short for \"double underscore\" methods, also called magic methods or special methods) are special predefined methods with names that begin and end with double underscores, like __init__, __str__, __len__, etc."
   ]
  },
  {
   "cell_type": "code",
   "execution_count": null,
   "id": "2060e428-8b39-4220-8a1f-8f7561db7c40",
   "metadata": {},
   "outputs": [],
   "source": [
    "#Q.NO 6. Explain the concept of inheritance in OOP.\n",
    "\n",
    "---# Inheritance is a core concept in Object-Oriented Programming (OOP) that allows a class (called a child or subclass) to inherit attributes and methods from another class (called a parent or superclass)."
   ]
  },
  {
   "cell_type": "code",
   "execution_count": null,
   "id": "81decad6-0885-475c-ab02-0ab1b6cf3142",
   "metadata": {},
   "outputs": [],
   "source": [
    "#Q.NO 7. What is polymorphism in OOP?\n",
    "\n",
    "---# Polymorphism means \"many forms\". In Object-Oriented Programming (OOP), it allows objects of different classes to be treated as objects of a common superclass, typically through shared interfaces or inheritance.\n",
    "   # In simple terms: The same method name can behave differently depending on the object that calls it."
   ]
  },
  {
   "cell_type": "code",
   "execution_count": null,
   "id": "723d670e-7ef5-46ac-b80d-0e2eae3370dc",
   "metadata": {},
   "outputs": [],
   "source": [
    "#Q.NO 8. How is encapsulation achieved in Python?\n",
    "\n",
    "---# Encapsulation is the OOP principle of hiding internal object details and only exposing a controlled interface for interacting with them. It keeps the data safe and maintains control over how it's accessed or modified."
   ]
  },
  {
   "cell_type": "code",
   "execution_count": null,
   "id": "f909c81b-67a2-4dee-9e89-5fa6d0c47816",
   "metadata": {},
   "outputs": [],
   "source": [
    "#Q.NO 9. What is a constructor in Python?\n",
    "\n",
    "---# In Python, a constructor is a special method used to initialize a new object of a class. It’s called automatically when an object is created.\n",
    "   # The constructor in Python is defined using the __init__ method."
   ]
  },
  {
   "cell_type": "code",
   "execution_count": null,
   "id": "bce37334-5f28-4641-a4bf-e293b8652b93",
   "metadata": {},
   "outputs": [],
   "source": [
    "#Q.NO 10. What are class and static methods in Python?\n",
    "\n",
    "---# Class Method\n",
    "   # A class method is a method that is bound to the class and not the object. It takes the class itself (cls) as its first parameter.\n",
    "   # Static Method\n",
    "   # A static method does not take self or cls as a parameter. It belongs to the class in namespace only, and does not access class or instance data."
   ]
  },
  {
   "cell_type": "code",
   "execution_count": null,
   "id": "2032e5b6-5d6e-4383-b92d-8e57d842acae",
   "metadata": {},
   "outputs": [],
   "source": [
    "#Q.NO 11. What is method overloading in Python?\n",
    "\n",
    "---# Method overloading means defining multiple methods with the same name but different arguments (number or type). It allows a method to perform different tasks based on input."
   ]
  },
  {
   "cell_type": "code",
   "execution_count": null,
   "id": "7e26ebe9-1b8c-4796-a99e-56e7e04e8d1a",
   "metadata": {},
   "outputs": [],
   "source": [
    "#Q.NO 12. What is method overriding in OOP?\n",
    "\n",
    "---# Method overriding is an OOP feature that allows a subclass to provide a specific implementation of a method that is already defined in its superclass."
   ]
  },
  {
   "cell_type": "code",
   "execution_count": null,
   "id": "9417dba1-7c82-40f7-b3ef-7f6cecb89775",
   "metadata": {},
   "outputs": [],
   "source": [
    "#Q.NO 13. What is a property decorator in Python?\n",
    "\n",
    "---# The property decorator in Python is used to turn a method into a \"read-only\" attribute, allowing you to access it like a variable while still using logic behind the scenes.\n",
    "   # It’s part of Python's built-in support for encapsulation and provides a clean, Pythonic way to use getters and setters without explicitly calling methods like get_x() or set_x()."
   ]
  },
  {
   "cell_type": "code",
   "execution_count": null,
   "id": "c6b67c5a-3a44-454e-83fb-a08395c6ae32",
   "metadata": {},
   "outputs": [],
   "source": [
    "#Q.NO 14. Why is polymorphism important in OOP?\n",
    "\n",
    "---# Polymorphism is a core principle of Object-Oriented Programming (OOP) that allows different classes to be treated through a common interface. This simplifies code, improves flexibility, and enhances reusability."
   ]
  },
  {
   "cell_type": "code",
   "execution_count": null,
   "id": "2ec4ae90-dbbd-4659-b59d-da13da1c8302",
   "metadata": {},
   "outputs": [],
   "source": [
    "#Q.NO 15. H What is an abstract class in Python?\n",
    "\n",
    "---# An abstract class in Python is a class that cannot be instantiated directly and is meant to be inherited by other classes. It can define abstract methods that must be implemented in any subclass."
   ]
  },
  {
   "cell_type": "code",
   "execution_count": null,
   "id": "26d2bf8a-7baa-4d10-b00d-92b4bad10dce",
   "metadata": {},
   "outputs": [],
   "source": [
    "#Q.NO16. What are the advantages of OOP?\n",
    "\n",
    "---# The advantages of OOP:\n",
    "   # 1) Modularity\n",
    "   # 2) Reusability\n",
    "   # 3) Encapsulation\n",
    "   # 4) Polymorphism\n",
    "   # 5) Maintainability\n",
    "   # 6) Improved Problem Solving\n",
    "   # 7) Scalability and Extensibility"
   ]
  },
  {
   "cell_type": "code",
   "execution_count": null,
   "id": "22360a0e-fb34-4f75-9760-9cf00f4896a4",
   "metadata": {},
   "outputs": [],
   "source": [
    "#Q.NO 17. What is the difference between a class variable and an instance variable?\n",
    "\n",
    "---#  Class Variable\n",
    "   # Shared by all instances of the class.\n",
    "   # Defined inside the class, but outside any methods.\n",
    "   # Accessed using the class name or an instance.\n",
    "   # Changes affect all instances (unless overridden).\n",
    "\n",
    "   # Instance Variable\n",
    "   # Unique to each object (instance).\n",
    "   # Defined inside the constructor (__init__) using self.\n",
    "   # Used to maintain object-specific data.\n",
    "   # Changes affect only that particular instance."
   ]
  },
  {
   "cell_type": "code",
   "execution_count": null,
   "id": "d8e4a60d-89ea-41ec-b191-0e7633fe6231",
   "metadata": {},
   "outputs": [],
   "source": [
    "#Q.NO 18. What is multiple inheritance in Python?\n",
    "\n",
    "---# Multiple inheritance is a feature in Python where a class can inherit from more than one parent class. This allows the subclass to combine functionality from multiple base classes."
   ]
  },
  {
   "cell_type": "code",
   "execution_count": null,
   "id": "fcb44830-8d75-4d97-84fd-93321302bdbc",
   "metadata": {},
   "outputs": [],
   "source": [
    "#Q.NO 19. Explain the purpose of ‘’__str__’ and ‘__repr__’ ‘ methods in Python.\n",
    "\n",
    "---# __repr__ — Official String Representation\n",
    "   # Goal: Provide an unambiguous string representation of an object.\n",
    "   # Intended for developers.\n",
    "   # Should ideally be a string that, when passed to eval(), recreates the object (if possible).\n",
    "   # Used by the built-in repr() function and when inspecting objects in the interpreter.\n",
    "\n",
    "   # __str__ — Informal/String Representation\n",
    "   # Goal: Provide a readable, user-friendly string representation.\n",
    "   # Intended for end users.\n",
    "   # Used by the built-in str() function and when you print an object."
   ]
  },
  {
   "cell_type": "code",
   "execution_count": null,
   "id": "24840c6f-c3e3-4efe-9a44-94726f21cb62",
   "metadata": {},
   "outputs": [],
   "source": [
    "#Q.NO 20. What is the significance of the ‘super()’ function in Python?\n",
    "\n",
    "---# The super() function is used to call a method from a parent (super) class in a subclass. It’s especially important in inheritance to:\n",
    "   # Access or extend the functionality of a parent class without explicitly naming it.\n",
    "   # Avoid hardcoding the parent class name, making your code more maintainable.\n",
    "   # Work well with multiple inheritance by following Python’s Method Resolution Order (MRO)."
   ]
  },
  {
   "cell_type": "code",
   "execution_count": null,
   "id": "5baf77f2-531d-4335-9306-56c68718a96e",
   "metadata": {},
   "outputs": [],
   "source": [
    "#Q.NO 21.  What is the significance of the __del__ method in Python?\n",
    "\n",
    "---# The __del__ method is a special destructor method in Python. It is called when an object is about to be destroyed, i.e., when the object is being garbage collected"
   ]
  },
  {
   "cell_type": "code",
   "execution_count": null,
   "id": "6531a07c-68df-47a1-a76f-0ff694517bf6",
   "metadata": {},
   "outputs": [],
   "source": [
    "#Q.NO 22. What is the difference between @staticmethod and @classmethod in Python?\n",
    "\n",
    "---#  @staticmethod\n",
    "   # Does not receive an implicit first argument (no self or cls).\n",
    "   # Behaves like a regular function but lives inside the class’s namespace.\n",
    "   # Cannot access or modify the class or instance state.\n",
    "   # Used when the method logically belongs to the class but doesn’t need class or instance data.\n",
    "\n",
    "   # @classmethod\n",
    "   # Receives the class itself as the first argument, conventionally named cls.\n",
    "   # Can access and modify class state that applies across all instances.\n",
    "   # Often used for factory methods or alternative constructors."
   ]
  },
  {
   "cell_type": "code",
   "execution_count": null,
   "id": "39680ad7-884d-42fd-b671-26976fad8d8f",
   "metadata": {},
   "outputs": [],
   "source": [
    "#Q.NO 23. How does polymorphism work in Python with inheritance?\n",
    "\n",
    "---# Polymorphism means “many forms” — in OOP, it lets objects of different classes be treated as instances of a common superclass, while each class can have its own implementation of methods.\n",
    "   # When combined with inheritance, polymorphism lets a child class override methods of its parent class, and lets you call those methods on parent-type references, with behavior depending on the actual object's class."
   ]
  },
  {
   "cell_type": "code",
   "execution_count": null,
   "id": "2037687b-7383-42c2-965a-42b6181016ea",
   "metadata": {},
   "outputs": [],
   "source": [
    "#Q.NO 24. What is method chaining in Python OOP?\n",
    "\n",
    "---# Method chaining is a programming technique where multiple methods are called on the same object consecutively in a single statement, one after another.\n",
    "   # Each method returns the object itself (usually self), allowing the next method to be called directly on it. This results in clean, fluent, and concise code."
   ]
  },
  {
   "cell_type": "code",
   "execution_count": null,
   "id": "2a3b8be2-f91b-496e-a914-f68e3bf89925",
   "metadata": {},
   "outputs": [],
   "source": [
    "#Q.NO 25. What is the purpose of the __call__ method in Python?\n",
    "\n",
    "---# The __call__ method allows an instance of a class to be called like a function. When you define __call__ in a class, you can use the object itself with parentheses () and optional arguments, just like a regular function.\n",
    "   # Purpose:\n",
    "   # Make an object behave like a function.\n",
    "   # Encapsulate some behavior that can be invoked directly on the object.\n",
    "   # Useful in cases like functors, callbacks, or when you want objects to be more flexible."
   ]
  },
  {
   "cell_type": "code",
   "execution_count": null,
   "id": "47f6a326-d67d-482e-be5d-243ec78f0fec",
   "metadata": {},
   "outputs": [],
   "source": [
    "# Practical Questions"
   ]
  },
  {
   "cell_type": "code",
   "execution_count": null,
   "id": "0c3f3fe5-a0c3-41bb-af36-b0feadd19cbb",
   "metadata": {},
   "outputs": [],
   "source": [
    "#Q.NO 1. . Create a parent class Animal with a method speak() that prints a generic message. Create a child class Dog that overrides the speak() method to print \"Bark!\""
   ]
  },
  {
   "cell_type": "code",
   "execution_count": 5,
   "id": "c36f2d9d-5b17-47ef-9fe9-0df04b039eab",
   "metadata": {},
   "outputs": [
    {
     "name": "stdout",
     "output_type": "stream",
     "text": [
      "This animal makes a noise.\n",
      "Bark!\n"
     ]
    }
   ],
   "source": [
    "class Animal:\n",
    "    def speak(self):\n",
    "        print(\"This animal makes a noise.\")\n",
    "\n",
    "class Dog(Animal):\n",
    "    def speak(self):\n",
    "        print(\"Bark!\")\n",
    "\n",
    "animal = Animal()\n",
    "animal.speak()  \n",
    "\n",
    "dog = Dog()\n",
    "dog.speak() "
   ]
  },
  {
   "cell_type": "code",
   "execution_count": null,
   "id": "0bd487c5-4c2b-41f7-a31d-17db6338c9db",
   "metadata": {},
   "outputs": [],
   "source": [
    "#Q.NO 2.  Write a program to create an abstract class Shape with a method area(). Derive classes Circle and Rectangle from it and implement the area() method in both"
   ]
  },
  {
   "cell_type": "code",
   "execution_count": 6,
   "id": "cf37ed07-6efb-4e8d-bbbc-506300f081b1",
   "metadata": {},
   "outputs": [
    {
     "name": "stdout",
     "output_type": "stream",
     "text": [
      "Circle area: 78.54\n",
      "Rectangle area: 24.00\n"
     ]
    }
   ],
   "source": [
    "from abc import ABC, abstractmethod\n",
    "import math\n",
    "\n",
    "class Shape(ABC):\n",
    "    @abstractmethod\n",
    "    def area(self):\n",
    "        pass  \n",
    "\n",
    "class Circle(Shape):\n",
    "    def __init__(self, radius):\n",
    "        self.radius = radius\n",
    "    \n",
    "    def area(self):\n",
    "        return math.pi * self.radius ** 2\n",
    "\n",
    "class Rectangle(Shape):\n",
    "    def __init__(self, width, height):\n",
    "        self.width = width\n",
    "        self.height = height\n",
    "    \n",
    "    def area(self):\n",
    "        return self.width * self.height\n",
    "\n",
    "circle = Circle(5)\n",
    "rectangle = Rectangle(4, 6)\n",
    "\n",
    "print(f\"Circle area: {circle.area():.2f}\")      \n",
    "print(f\"Rectangle area: {rectangle.area():.2f}\") \n"
   ]
  },
  {
   "cell_type": "code",
   "execution_count": null,
   "id": "629a1728-3880-4745-b345-68160b842f23",
   "metadata": {},
   "outputs": [],
   "source": [
    "# Q.NO.3 . Implement a multi-level inheritance scenario where a class Vehicle has an attribute type. Derive a class Car and further derive a class ElectricCar that adds a battery attribute."
   ]
  },
  {
   "cell_type": "code",
   "execution_count": 8,
   "id": "c9c6a003-4c0b-4497-bff8-11005eec605a",
   "metadata": {},
   "outputs": [
    {
     "name": "stdout",
     "output_type": "stream",
     "text": [
      "Type: Car\n",
      "Brand: Verna\n",
      "Battery Capacity: 80 kWh\n"
     ]
    }
   ],
   "source": [
    "class Vehicle:\n",
    "    def __init__(self, vehicle_type):\n",
    "        self.type = vehicle_type\n",
    "\n",
    "class Car(Vehicle):\n",
    "    def __init__(self, vehicle_type, brand):\n",
    "        super().__init__(vehicle_type)\n",
    "        self.brand = brand\n",
    "\n",
    "class ElectricCar(Car):\n",
    "    def __init__(self, vehicle_type, brand, battery_capacity):\n",
    "        super().__init__(vehicle_type, brand)\n",
    "        self.battery_capacity = battery_capacity  \n",
    "\n",
    "    def display_info(self):\n",
    "        print(f\"Type: {self.type}\")\n",
    "        print(f\"Brand: {self.brand}\")\n",
    "        print(f\"Battery Capacity: {self.battery_capacity} kWh\")\n",
    "\n",
    "my_electric_car = ElectricCar(\"Car\", \"Verna\", 80)\n",
    "my_electric_car.display_info()\n"
   ]
  },
  {
   "cell_type": "code",
   "execution_count": null,
   "id": "19a6e76d-2386-4aac-b54d-114ac9fe67f0",
   "metadata": {},
   "outputs": [],
   "source": [
    "#Q.NO.4  Demonstrate polymorphism by creating a base class Bird with a method fly(). Create two derived classes Sparrow and Penguin that override the fly() method."
   ]
  },
  {
   "cell_type": "code",
   "execution_count": 9,
   "id": "d7762b67-2b14-4f71-8b50-a6fd2ae0ae75",
   "metadata": {},
   "outputs": [
    {
     "name": "stdout",
     "output_type": "stream",
     "text": [
      "Sparrow is flying high!\n",
      "Penguins can't fly, but they swim!\n"
     ]
    }
   ],
   "source": [
    "class Bird:\n",
    "    def fly(self):\n",
    "        print(\"This bird can fly.\")\n",
    "\n",
    "class Sparrow(Bird):\n",
    "    def fly(self):\n",
    "        print(\"Sparrow is flying high!\")\n",
    "\n",
    "class Penguin(Bird):\n",
    "    def fly(self):\n",
    "        print(\"Penguins can't fly, but they swim!\")\n",
    "\n",
    "def let_bird_fly(bird):\n",
    "    bird.fly()\n",
    "\n",
    "sparrow = Sparrow()\n",
    "penguin = Penguin()\n",
    "\n",
    "let_bird_fly(sparrow)  \n",
    "let_bird_fly(penguin)  \n"
   ]
  },
  {
   "cell_type": "code",
   "execution_count": null,
   "id": "e0b30c37-a568-4277-825b-63086eb07374",
   "metadata": {},
   "outputs": [],
   "source": [
    "#Q.NO.5  Write a program to demonstrate encapsulation by creating a class BankAccount with private attributes balance and methods to deposit, withdraw, and check balance."
   ]
  },
  {
   "cell_type": "code",
   "execution_count": 3,
   "id": "17094de8-e0aa-4f39-acc5-728e0b61fdf8",
   "metadata": {},
   "outputs": [
    {
     "name": "stdout",
     "output_type": "stream",
     "text": [
      "Current Balance: $100\n",
      "Deposited: $50\n",
      "Current Balance: $150\n",
      "Withdrawn: $70\n",
      "Current Balance: $80\n"
     ]
    }
   ],
   "source": [
    "class BankAccount:\n",
    "    def __init__(self, initial_balance=0):\n",
    "        self.__balance = initial_balance\n",
    "\n",
    "    def deposit(self, amount):\n",
    "        if amount > 0:\n",
    "            self.__balance += amount\n",
    "            print(f\"Deposited: ${amount}\")\n",
    "        else:\n",
    "            print(\"Deposit amount must be positive.\")\n",
    "\n",
    "    def withdraw(self, amount):\n",
    "        if amount <= self.__balance:\n",
    "            self.__balance -= amount\n",
    "            print(f\"Withdrawn: ${amount}\")\n",
    "        else:\n",
    "            print(\"Insufficient balance.\")\n",
    "\n",
    "    def check_balance(self):\n",
    "        print(f\"Current Balance: ${self.__balance}\")\n",
    "\n",
    "account = BankAccount(100)   \n",
    "account.check_balance()      \n",
    "\n",
    "account.deposit(50)         \n",
    "account.check_balance()      \n",
    "\n",
    "account.withdraw(70)        \n",
    "account.check_balance()      \n"
   ]
  },
  {
   "cell_type": "code",
   "execution_count": null,
   "id": "4c5797d1-fc64-4aaf-8978-42c0721d44df",
   "metadata": {},
   "outputs": [],
   "source": [
    "# Q.NO.6 Demonstrate runtime polymorphism using a method play() in a base class Instrument. Derive classes Guitar and Piano that implement their own version of play()."
   ]
  },
  {
   "cell_type": "code",
   "execution_count": 4,
   "id": "60f7fe79-58ce-47da-88c5-962c7acce88d",
   "metadata": {},
   "outputs": [
    {
     "name": "stdout",
     "output_type": "stream",
     "text": [
      "Strumming the guitar.\n",
      "Playing the piano.\n"
     ]
    }
   ],
   "source": [
    "class Instrument:\n",
    "    def play(self):\n",
    "        print(\"The instrument is being played.\")\n",
    "\n",
    "class Guitar(Instrument):\n",
    "    def play(self):\n",
    "        print(\"Strumming the guitar.\")\n",
    "        \n",
    "class Piano(Instrument):\n",
    "    def play(self):\n",
    "        print(\"Playing the piano.\")\n",
    "\n",
    "def perform_play(instrument):\n",
    "    instrument.play()  \n",
    "\n",
    "instrument1 = Guitar()\n",
    "instrument2 = Piano()\n",
    "\n",
    "perform_play(instrument1)  \n",
    "perform_play(instrument2)  \n"
   ]
  },
  {
   "cell_type": "code",
   "execution_count": null,
   "id": "1891c715-ff8d-46cb-aa74-e171ac95e91a",
   "metadata": {},
   "outputs": [],
   "source": [
    "# Q.NO.7 Create a class MathOperations with a class method add_numbers() to add two numbers and a static method subtract_numbers() to subtract two numbers."
   ]
  },
  {
   "cell_type": "code",
   "execution_count": 5,
   "id": "f564e9dd-aaf4-4d91-a98b-ff6abbc0b311",
   "metadata": {},
   "outputs": [
    {
     "name": "stdout",
     "output_type": "stream",
     "text": [
      "Sum: 15\n",
      "Difference: 5\n"
     ]
    }
   ],
   "source": [
    "class MathOperations:\n",
    "    @classmethod\n",
    "    def add_numbers(cls, a, b):\n",
    "        return a + b\n",
    "\n",
    "    @staticmethod\n",
    "    def subtract_numbers(a, b):\n",
    "        return a - b\n",
    "\n",
    "sum_result = MathOperations.add_numbers(10, 5)\n",
    "print(f\"Sum: {sum_result}\")  \n",
    "\n",
    "difference = MathOperations.subtract_numbers(10, 5)\n",
    "print(f\"Difference: {difference}\")  \n"
   ]
  },
  {
   "cell_type": "code",
   "execution_count": null,
   "id": "47b3eb24-1b21-45d5-abdb-edc84d20ebf7",
   "metadata": {},
   "outputs": [],
   "source": [
    "# Q.NO.8  Implement a class Person with a class method to count the total number of persons created."
   ]
  },
  {
   "cell_type": "code",
   "execution_count": 6,
   "id": "448098e1-342a-4393-9ff3-d3f0a9728b5d",
   "metadata": {},
   "outputs": [
    {
     "name": "stdout",
     "output_type": "stream",
     "text": [
      "Total persons created: 3\n"
     ]
    }
   ],
   "source": [
    "class Person:\n",
    "    count = 0\n",
    "\n",
    "    def __init__(self, name):\n",
    "        self.name = name\n",
    "        Person.count += 1  \n",
    "\n",
    "    @classmethod\n",
    "    def total_persons(cls):\n",
    "        return cls.count\n",
    "\n",
    "p1 = Person(\"Alice\")\n",
    "p2 = Person(\"Bob\")\n",
    "p3 = Person(\"Charlie\")\n",
    "\n",
    "print(f\"Total persons created: {Person.total_persons()}\")  \n"
   ]
  },
  {
   "cell_type": "code",
   "execution_count": 7,
   "id": "7fb3b01a-341a-477c-8e2a-32c11b36f3b5",
   "metadata": {},
   "outputs": [],
   "source": [
    "# Q.NO.9 Write a class Fraction with attributes numerator and denominator. Override the str method to display the fraction as \"numerator/denominator\"."
   ]
  },
  {
   "cell_type": "code",
   "execution_count": 9,
   "id": "1f1baca7-bdb9-4607-924b-8e5d596213af",
   "metadata": {},
   "outputs": [
    {
     "name": "stdout",
     "output_type": "stream",
     "text": [
      "8/4\n",
      "9/2\n"
     ]
    }
   ],
   "source": [
    "class Fraction:\n",
    "    def __init__(self, numerator, denominator):\n",
    "        self.numerator = numerator\n",
    "        if denominator == 0:\n",
    "            raise ValueError(\"Denominator cannot be zero.\")\n",
    "        self.denominator = denominator\n",
    "\n",
    "    def __str__(self):\n",
    "        return f\"{self.numerator}/{self.denominator}\"\n",
    "\n",
    "f1 = Fraction(8, 4)\n",
    "f2 = Fraction(9, 2)\n",
    "\n",
    "print(f1)  \n",
    "print(f2)  \n"
   ]
  },
  {
   "cell_type": "code",
   "execution_count": 10,
   "id": "094e7949-b336-480e-88ed-514bb31b5377",
   "metadata": {},
   "outputs": [],
   "source": [
    "# Q.NO.10  Demonstrate operator overloading by creating a class Vector and overriding the add method to add two vectors."
   ]
  },
  {
   "cell_type": "code",
   "execution_count": 11,
   "id": "093b3d4b-5df6-43c9-95a8-5f9a3a088d17",
   "metadata": {},
   "outputs": [
    {
     "name": "stdout",
     "output_type": "stream",
     "text": [
      "v1 = (5, 6)\n",
      "v2 = (7, 8)\n",
      "v1 + v2 = (12, 14)\n"
     ]
    }
   ],
   "source": [
    "class Vector:\n",
    "    def __init__(self, x, y):\n",
    "        self.x = x\n",
    "        self.y = y\n",
    "\n",
    "    def __add__(self, other):\n",
    "        if isinstance(other, Vector):\n",
    "            return Vector(self.x + other.x, self.y + other.y)\n",
    "        else:\n",
    "            return NotImplemented\n",
    "\n",
    "    def __str__(self):\n",
    "        return f\"({self.x}, {self.y})\"\n",
    "\n",
    "v1 = Vector(5, 6)\n",
    "v2 = Vector(7, 8)\n",
    "v3 = v1 + v2  \n",
    "\n",
    "print(\"v1 =\", v1)  \n",
    "print(\"v2 =\", v2)  \n",
    "print(\"v1 + v2 =\", v3)  \n"
   ]
  },
  {
   "cell_type": "code",
   "execution_count": null,
   "id": "041ce21a-9302-4355-9f5e-6cb9043a58c1",
   "metadata": {},
   "outputs": [],
   "source": [
    "#Q.NO.11  Create a class Person with attributes name and age. Add a method greet() that prints \"Hello, my name is {name} and I am {age} years old.\""
   ]
  },
  {
   "cell_type": "code",
   "execution_count": 12,
   "id": "2d4912a6-b0b0-4a80-88c7-8b1bd933ac96",
   "metadata": {},
   "outputs": [
    {
     "name": "stdout",
     "output_type": "stream",
     "text": [
      "Hello, my name is Hrishabh and I am 24 years old.\n",
      "Hello, my name is Ankit and I am 25 years old.\n"
     ]
    }
   ],
   "source": [
    "class Person:\n",
    "    def __init__(self, name, age):\n",
    "        self.name = name\n",
    "        self.age = age\n",
    "\n",
    "    def greet(self):\n",
    "        print(f\"Hello, my name is {self.name} and I am {self.age} years old.\")\n",
    "\n",
    "p1 = Person(\"Hrishabh\", 24)\n",
    "p1.greet()  \n",
    "\n",
    "p2 = Person(\"Ankit\", 25)\n",
    "p2.greet()  \n"
   ]
  },
  {
   "cell_type": "code",
   "execution_count": null,
   "id": "b11f18de-ad9f-4190-9117-d3799c6511c1",
   "metadata": {},
   "outputs": [],
   "source": [
    "#Q.NO.12 . Implement a class Student with attributes name and grades. Create a method average_grade() to compute the average of the grades."
   ]
  },
  {
   "cell_type": "code",
   "execution_count": 13,
   "id": "eb9cd035-133c-4389-8638-61da5741892d",
   "metadata": {},
   "outputs": [
    {
     "name": "stdout",
     "output_type": "stream",
     "text": [
      "Hrishabh's average grade: 93.75\n",
      "Ankit's average grade: 44.33\n"
     ]
    }
   ],
   "source": [
    "class Student:\n",
    "    def __init__(self, name, grades):\n",
    "        self.name = name\n",
    "        self.grades = grades  \n",
    "\n",
    "    def average_grade(self):\n",
    "        if not self.grades:\n",
    "            return 0  \n",
    "        return sum(self.grades) / len(self.grades)\n",
    "\n",
    "s1 = Student(\"Hrishabh\", [99, 95, 92, 89])\n",
    "s2 = Student(\"Ankit\", [55, 45, 33])\n",
    "\n",
    "print(f\"{s1.name}'s average grade: {s1.average_grade():.2f}\")  \n",
    "print(f\"{s2.name}'s average grade: {s2.average_grade():.2f}\")  \n",
    "\n"
   ]
  },
  {
   "cell_type": "code",
   "execution_count": 14,
   "id": "242b01ec-fb12-4522-8a9c-954aa1e7ad37",
   "metadata": {},
   "outputs": [],
   "source": [
    "# Q.NO.13 Create a class Rectangle with methods set_dimensions() to set the dimensions and area() to calculate the area."
   ]
  },
  {
   "cell_type": "code",
   "execution_count": 16,
   "id": "8abff9c5-e0ce-4087-bbfe-cda6f8b791ec",
   "metadata": {},
   "outputs": [
    {
     "name": "stdout",
     "output_type": "stream",
     "text": [
      "Area of the rectangle: 72\n"
     ]
    }
   ],
   "source": [
    "class Rectangle:\n",
    "    def __init__(self):\n",
    "        self.length = 0\n",
    "        self.width = 0\n",
    "        \n",
    "    def set_dimensions(self, length, width):\n",
    "        if length < 0 or width < 0:\n",
    "            raise ValueError(\"Length and width must be non-negative.\")\n",
    "        self.length = length\n",
    "        self.width = width\n",
    "\n",
    "    def area(self):\n",
    "        return self.length * self.width\n",
    "\n",
    "rect = Rectangle()\n",
    "rect.set_dimensions(8, 9)\n",
    "\n",
    "print(f\"Area of the rectangle: {rect.area()}\")  \n"
   ]
  },
  {
   "cell_type": "code",
   "execution_count": null,
   "id": "20e5d2af-6947-4ce1-937a-d753cda38c8d",
   "metadata": {},
   "outputs": [],
   "source": [
    "# Q.NO.14  Create a class Employee with a method calculate_salary() that computes the salary based on hours worked and hourly rate. Create a derived class Manager that adds a bonus to the salary"
   ]
  },
  {
   "cell_type": "code",
   "execution_count": 18,
   "id": "775b4733-a859-4f9e-9d6b-e01517cc5d77",
   "metadata": {},
   "outputs": [
    {
     "name": "stdout",
     "output_type": "stream",
     "text": [
      "Hrishabh's salary: $120000\n",
      "Ankit's salary: $4465\n"
     ]
    }
   ],
   "source": [
    "class Employee:\n",
    "    def __init__(self, name, hours_worked, hourly_rate):\n",
    "        self.name = name\n",
    "        self.hours_worked = hours_worked\n",
    "        self.hourly_rate = hourly_rate\n",
    "\n",
    "    def calculate_salary(self):\n",
    "        return self.hours_worked * self.hourly_rate\n",
    "        \n",
    "class Manager(Employee):\n",
    "    def __init__(self, name, hours_worked, hourly_rate, bonus):\n",
    "        super().__init__(name, hours_worked, hourly_rate)\n",
    "        self.bonus = bonus\n",
    "\n",
    "    def calculate_salary(self):\n",
    "        base_salary = super().calculate_salary()\n",
    "        return base_salary + self.bonus\n",
    "\n",
    "emp = Employee(\"Hrishabh\", 60, 2000 ) \n",
    "mgr = Manager(\"Ankit\", 77, 45, 1000)  \n",
    "\n",
    "print(f\"{emp.name}'s salary: ${emp.calculate_salary()}\")  \n",
    "print(f\"{mgr.name}'s salary: ${mgr.calculate_salary()}\")   \n"
   ]
  },
  {
   "cell_type": "code",
   "execution_count": null,
   "id": "026b62a6-8d03-4d6d-8e1a-1da05d15820a",
   "metadata": {},
   "outputs": [],
   "source": [
    "# Q.NO.15  Create a class Product with attributes name, price, and quantity. Implement a method total_price() that calculates the total price of the product."
   ]
  },
  {
   "cell_type": "code",
   "execution_count": 22,
   "id": "2f0c3f99-42ba-4292-b2da-c7287b669243",
   "metadata": {},
   "outputs": [
    {
     "name": "stdout",
     "output_type": "stream",
     "text": [
      "Total price for 2 verna_cars: $30000\n"
     ]
    }
   ],
   "source": [
    "class Product:\n",
    "    def __init__(self, name, price, quantity):\n",
    "        self.name = name\n",
    "        self.price = price\n",
    "        self.quantity = quantity\n",
    "\n",
    "    def total_price(self):\n",
    "        return self.price * self.quantity\n",
    "\n",
    "product = Product(\"verna_car\", 15000, 2)\n",
    "print(f\"Total price for {product.quantity} {product.name}s: ${product.total_price()}\")\n"
   ]
  },
  {
   "cell_type": "code",
   "execution_count": null,
   "id": "fcc47153-83fa-4c19-9c04-3c54b279636e",
   "metadata": {},
   "outputs": [],
   "source": [
    "# Q.NO.16  Create a class Animal with an abstract method sound(). Create two derived classes Cow and Sheep that implement the sound() method."
   ]
  },
  {
   "cell_type": "code",
   "execution_count": 23,
   "id": "331e526f-d6e3-47cb-8ab2-7241236fd294",
   "metadata": {},
   "outputs": [
    {
     "name": "stdout",
     "output_type": "stream",
     "text": [
      "Horse sound: hehehe\n",
      "Elephant sound: ooooonnnn\n"
     ]
    }
   ],
   "source": [
    "from abc import ABC, abstractmethod\n",
    "class Animal(ABC):\n",
    "    @abstractmethod\n",
    "    def sound(self):\n",
    "        pass\n",
    "\n",
    "class Horse(Animal):\n",
    "    def sound(self):\n",
    "        return \"hehehe\"\n",
    "\n",
    "class Elephant(Animal):\n",
    "    def sound(self):\n",
    "        return \"ooooonnnn\"\n",
    "\n",
    "horse = Horse()\n",
    "elephant = Elephant()\n",
    "\n",
    "print(f\"Horse sound: {horse.sound()}\")  \n",
    "print(f\"Elephant sound: {elephant.sound()}\")  \n"
   ]
  },
  {
   "cell_type": "code",
   "execution_count": 24,
   "id": "39413c4d-400b-463c-b9f0-c43249dc4b27",
   "metadata": {},
   "outputs": [],
   "source": [
    "# Q.NO.17  Create a class Book with attributes title, author, and year_published. Add a method get_book_info() that returns a formatted string with the book's details."
   ]
  },
  {
   "cell_type": "code",
   "execution_count": 25,
   "id": "811936bc-2b8a-4ea2-bd4e-047d74ad5876",
   "metadata": {},
   "outputs": [
    {
     "name": "stdout",
     "output_type": "stream",
     "text": [
      "'Verbal_and_non_verbal_reasoning' by S_Chand, published in 2010\n"
     ]
    }
   ],
   "source": [
    "class Book:\n",
    "    def __init__(self, title, author, year_published):\n",
    "        self.title = title\n",
    "        self.author = author\n",
    "        self.year_published = year_published\n",
    "\n",
    "    def get_book_info(self):\n",
    "        return f\"'{self.title}' by {self.author}, published in {self.year_published}\"\n",
    "\n",
    "book = Book(\"Verbal_and_non_verbal_reasoning\", \"S_Chand\", 2010)\n",
    "print(book.get_book_info())\n"
   ]
  },
  {
   "cell_type": "code",
   "execution_count": null,
   "id": "a52f2a8e-fdeb-4034-b9ea-8f4b8090bc4d",
   "metadata": {},
   "outputs": [],
   "source": [
    "# Q.NO.18  Create a class House with attributes address and price. Create a derived class Mansion that adds an attribute number_of_rooms."
   ]
  },
  {
   "cell_type": "code",
   "execution_count": 26,
   "id": "74d96a49-8a6c-46a0-abe3-c2b8ed4881e6",
   "metadata": {},
   "outputs": [
    {
     "name": "stdout",
     "output_type": "stream",
     "text": [
      "House address: 08 SS Green , price: $850000\n",
      "Mansion address: 565 Geeta Valley, price: $7800000, rooms: 15\n"
     ]
    }
   ],
   "source": [
    "class House:\n",
    "    def __init__(self, address, price):\n",
    "        self.address = address\n",
    "        self.price = price\n",
    "\n",
    "class Mansion(House):\n",
    "    def __init__(self, address, price, number_of_rooms):\n",
    "        super().__init__(address, price)\n",
    "        self.number_of_rooms = number_of_rooms\n",
    "\n",
    "house = House(\"08 SS Green \", 850000)\n",
    "mansion = Mansion(\"565 Geeta Valley\", 7800000, 15)\n",
    "\n",
    "print(f\"House address: {house.address}, price: ${house.price}\")\n",
    "print(f\"Mansion address: {mansion.address}, price: ${mansion.price}, rooms: {mansion.number_of_rooms}\")\n"
   ]
  },
  {
   "cell_type": "code",
   "execution_count": null,
   "id": "1a28b24a-5330-438b-9972-ffe4382df6e4",
   "metadata": {},
   "outputs": [],
   "source": []
  }
 ],
 "metadata": {
  "kernelspec": {
   "display_name": "Python 3 (ipykernel)",
   "language": "python",
   "name": "python3"
  },
  "language_info": {
   "codemirror_mode": {
    "name": "ipython",
    "version": 3
   },
   "file_extension": ".py",
   "mimetype": "text/x-python",
   "name": "python",
   "nbconvert_exporter": "python",
   "pygments_lexer": "ipython3",
   "version": "3.13.3"
  }
 },
 "nbformat": 4,
 "nbformat_minor": 5
}
